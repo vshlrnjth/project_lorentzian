{
 "cells": [
  {
   "cell_type": "markdown",
   "id": "de18764e",
   "metadata": {},
   "source": [
    "# Objective: Find the best-fit Lorentzian curve for extinction data obtained via AOTF-VIS. Extract the corresponding full width at half maximum and the wavelength of peak height."
   ]
  },
  {
   "cell_type": "markdown",
   "id": "a1026e78",
   "metadata": {},
   "source": [
    "## Relevant packages and modules to import"
   ]
  },
  {
   "cell_type": "code",
   "execution_count": 1,
   "id": "bf9d0d94",
   "metadata": {},
   "outputs": [],
   "source": [
    "import pandas as pd\n",
    "import numpy as np\n",
    "import matplotlib.pyplot as plt\n",
    "import seaborn as sns\n",
    "from lmfit.models import LorentzianModel"
   ]
  },
  {
   "cell_type": "markdown",
   "id": "048531db",
   "metadata": {},
   "source": [
    "## Function to extract our parameters of interest as well as the number of repeats for the respective scans"
   ]
  },
  {
   "cell_type": "code",
   "execution_count": 2,
   "id": "965a0d36",
   "metadata": {},
   "outputs": [],
   "source": [
    "def parameter_formatting_WL(filename,r_skip=84,n_rows=3,loc=2):\n",
    "    user_col = [\"Wavelength(nm)\", \"FocusCorrectionY[µm]\", \"Repeat(x)\", \"M(V)\", \"Phase(')\", \"IS(A)\", \"Phase(').1\", \"R(V)\", \"Phase(').2\",]\n",
    "    readfile = pd.read_csv(filename, delim_whitespace= 1, skiprows=r_skip, names=user_col)\n",
    "    stepsfile = pd.read_csv(filename, sep='\\t', skiprows=9,nrows=n_rows)\n",
    "    repeats = int(stepsfile.iloc[loc]['Loops:'][-8:-6])\n",
    "    return readfile,repeats"
   ]
  },
  {
   "cell_type": "markdown",
   "id": "147111ba",
   "metadata": {},
   "source": [
    "## Setting filenames"
   ]
  },
  {
   "cell_type": "code",
   "execution_count": 3,
   "id": "2c692824",
   "metadata": {},
   "outputs": [],
   "source": [
    "filename = \"C5\"\n",
    "filename2 = \"C5_ref\"\n",
    "filename3 = \"10ConsScan_cube9\"\n",
    "filename4 = \"10ConsScan_cube9ref\""
   ]
  },
  {
   "cell_type": "markdown",
   "id": "6972234e",
   "metadata": {},
   "source": [
    "## Actual sample measurement data"
   ]
  },
  {
   "cell_type": "code",
   "execution_count": 4,
   "id": "0d4e4f70",
   "metadata": {},
   "outputs": [],
   "source": [
    "hit,repeat = parameter_formatting_WL(filename+'.csv')\n",
    "Wavelengths = hit.loc[::repeat,'Wavelength(nm)'].values\n",
    "hit_Scat_byM = hit.loc[:,'IS(A)']/hit.loc[:,\"M(V)\"]\n",
    "hit_Scat_byM = hit_Scat_byM.groupby(np.arange(len(hit_Scat_byM))//repeat).mean()\n",
    "hit_Ext_byM = hit.loc[:,\"R(V)\"]/hit.loc[:,\"M(V)\"]\n",
    "hit_Ext_byM = hit_Ext_byM.groupby(np.arange(len(hit_Ext_byM))//repeat).mean()"
   ]
  },
  {
   "cell_type": "code",
   "execution_count": 5,
   "id": "96422aea",
   "metadata": {},
   "outputs": [
    {
     "data": {
      "text/html": [
       "<div>\n",
       "<style scoped>\n",
       "    .dataframe tbody tr th:only-of-type {\n",
       "        vertical-align: middle;\n",
       "    }\n",
       "\n",
       "    .dataframe tbody tr th {\n",
       "        vertical-align: top;\n",
       "    }\n",
       "\n",
       "    .dataframe thead th {\n",
       "        text-align: right;\n",
       "    }\n",
       "</style>\n",
       "<table border=\"1\" class=\"dataframe\">\n",
       "  <thead>\n",
       "    <tr style=\"text-align: right;\">\n",
       "      <th></th>\n",
       "      <th>Wavelength(nm)</th>\n",
       "      <th>FocusCorrectionY[µm]</th>\n",
       "      <th>Repeat(x)</th>\n",
       "      <th>M(V)</th>\n",
       "      <th>Phase(')</th>\n",
       "      <th>IS(A)</th>\n",
       "      <th>Phase(').1</th>\n",
       "      <th>R(V)</th>\n",
       "      <th>Phase(').2</th>\n",
       "    </tr>\n",
       "  </thead>\n",
       "  <tbody>\n",
       "    <tr>\n",
       "      <th>0</th>\n",
       "      <td>500.0</td>\n",
       "      <td>2.400</td>\n",
       "      <td>0</td>\n",
       "      <td>0.026355</td>\n",
       "      <td>1.59</td>\n",
       "      <td>4.052264e-10</td>\n",
       "      <td>0.19</td>\n",
       "      <td>0.001810</td>\n",
       "      <td>0.17</td>\n",
       "    </tr>\n",
       "    <tr>\n",
       "      <th>1</th>\n",
       "      <td>500.0</td>\n",
       "      <td>2.400</td>\n",
       "      <td>1</td>\n",
       "      <td>0.026355</td>\n",
       "      <td>1.59</td>\n",
       "      <td>4.076838e-10</td>\n",
       "      <td>0.19</td>\n",
       "      <td>0.001816</td>\n",
       "      <td>0.17</td>\n",
       "    </tr>\n",
       "    <tr>\n",
       "      <th>2</th>\n",
       "      <td>500.0</td>\n",
       "      <td>2.400</td>\n",
       "      <td>2</td>\n",
       "      <td>0.026386</td>\n",
       "      <td>1.59</td>\n",
       "      <td>4.075453e-10</td>\n",
       "      <td>0.19</td>\n",
       "      <td>0.001810</td>\n",
       "      <td>0.17</td>\n",
       "    </tr>\n",
       "    <tr>\n",
       "      <th>3</th>\n",
       "      <td>502.5</td>\n",
       "      <td>2.447</td>\n",
       "      <td>0</td>\n",
       "      <td>0.031789</td>\n",
       "      <td>1.59</td>\n",
       "      <td>5.147182e-10</td>\n",
       "      <td>0.19</td>\n",
       "      <td>0.002328</td>\n",
       "      <td>0.17</td>\n",
       "    </tr>\n",
       "    <tr>\n",
       "      <th>4</th>\n",
       "      <td>502.5</td>\n",
       "      <td>2.447</td>\n",
       "      <td>1</td>\n",
       "      <td>0.031804</td>\n",
       "      <td>1.59</td>\n",
       "      <td>5.144951e-10</td>\n",
       "      <td>0.19</td>\n",
       "      <td>0.002327</td>\n",
       "      <td>0.17</td>\n",
       "    </tr>\n",
       "    <tr>\n",
       "      <th>...</th>\n",
       "      <td>...</td>\n",
       "      <td>...</td>\n",
       "      <td>...</td>\n",
       "      <td>...</td>\n",
       "      <td>...</td>\n",
       "      <td>...</td>\n",
       "      <td>...</td>\n",
       "      <td>...</td>\n",
       "      <td>...</td>\n",
       "    </tr>\n",
       "    <tr>\n",
       "      <th>334</th>\n",
       "      <td>777.5</td>\n",
       "      <td>-1.078</td>\n",
       "      <td>1</td>\n",
       "      <td>0.136065</td>\n",
       "      <td>1.59</td>\n",
       "      <td>3.552662e-09</td>\n",
       "      <td>0.18</td>\n",
       "      <td>0.012483</td>\n",
       "      <td>0.17</td>\n",
       "    </tr>\n",
       "    <tr>\n",
       "      <th>335</th>\n",
       "      <td>777.5</td>\n",
       "      <td>-1.078</td>\n",
       "      <td>2</td>\n",
       "      <td>0.136004</td>\n",
       "      <td>1.59</td>\n",
       "      <td>3.552330e-09</td>\n",
       "      <td>0.18</td>\n",
       "      <td>0.012479</td>\n",
       "      <td>0.17</td>\n",
       "    </tr>\n",
       "    <tr>\n",
       "      <th>336</th>\n",
       "      <td>780.0</td>\n",
       "      <td>-1.126</td>\n",
       "      <td>0</td>\n",
       "      <td>0.138264</td>\n",
       "      <td>1.59</td>\n",
       "      <td>3.601390e-09</td>\n",
       "      <td>0.18</td>\n",
       "      <td>0.012517</td>\n",
       "      <td>0.17</td>\n",
       "    </tr>\n",
       "    <tr>\n",
       "      <th>337</th>\n",
       "      <td>780.0</td>\n",
       "      <td>-1.126</td>\n",
       "      <td>1</td>\n",
       "      <td>0.138263</td>\n",
       "      <td>1.59</td>\n",
       "      <td>3.598706e-09</td>\n",
       "      <td>0.18</td>\n",
       "      <td>0.012520</td>\n",
       "      <td>0.17</td>\n",
       "    </tr>\n",
       "    <tr>\n",
       "      <th>338</th>\n",
       "      <td>780.0</td>\n",
       "      <td>-1.126</td>\n",
       "      <td>2</td>\n",
       "      <td>0.138203</td>\n",
       "      <td>1.59</td>\n",
       "      <td>3.600495e-09</td>\n",
       "      <td>0.18</td>\n",
       "      <td>0.012514</td>\n",
       "      <td>0.17</td>\n",
       "    </tr>\n",
       "  </tbody>\n",
       "</table>\n",
       "<p>339 rows × 9 columns</p>\n",
       "</div>"
      ],
      "text/plain": [
       "     Wavelength(nm)  FocusCorrectionY[µm]  Repeat(x)      M(V)  Phase(')  \\\n",
       "0             500.0                 2.400          0  0.026355      1.59   \n",
       "1             500.0                 2.400          1  0.026355      1.59   \n",
       "2             500.0                 2.400          2  0.026386      1.59   \n",
       "3             502.5                 2.447          0  0.031789      1.59   \n",
       "4             502.5                 2.447          1  0.031804      1.59   \n",
       "..              ...                   ...        ...       ...       ...   \n",
       "334           777.5                -1.078          1  0.136065      1.59   \n",
       "335           777.5                -1.078          2  0.136004      1.59   \n",
       "336           780.0                -1.126          0  0.138264      1.59   \n",
       "337           780.0                -1.126          1  0.138263      1.59   \n",
       "338           780.0                -1.126          2  0.138203      1.59   \n",
       "\n",
       "            IS(A)  Phase(').1      R(V)  Phase(').2  \n",
       "0    4.052264e-10        0.19  0.001810        0.17  \n",
       "1    4.076838e-10        0.19  0.001816        0.17  \n",
       "2    4.075453e-10        0.19  0.001810        0.17  \n",
       "3    5.147182e-10        0.19  0.002328        0.17  \n",
       "4    5.144951e-10        0.19  0.002327        0.17  \n",
       "..            ...         ...       ...         ...  \n",
       "334  3.552662e-09        0.18  0.012483        0.17  \n",
       "335  3.552330e-09        0.18  0.012479        0.17  \n",
       "336  3.601390e-09        0.18  0.012517        0.17  \n",
       "337  3.598706e-09        0.18  0.012520        0.17  \n",
       "338  3.600495e-09        0.18  0.012514        0.17  \n",
       "\n",
       "[339 rows x 9 columns]"
      ]
     },
     "execution_count": 5,
     "metadata": {},
     "output_type": "execute_result"
    }
   ],
   "source": [
    "hit"
   ]
  },
  {
   "cell_type": "code",
   "execution_count": 6,
   "id": "901b5e1f",
   "metadata": {},
   "outputs": [
    {
     "data": {
      "text/plain": [
       "3"
      ]
     },
     "execution_count": 6,
     "metadata": {},
     "output_type": "execute_result"
    }
   ],
   "source": [
    "repeat"
   ]
  },
  {
   "cell_type": "code",
   "execution_count": 7,
   "id": "e9baeea5",
   "metadata": {},
   "outputs": [
    {
     "name": "stdout",
     "output_type": "stream",
     "text": [
      "[500.  502.5 505.  507.5 510.  512.5 515.  517.5 520.  522.5 525.  527.5\n",
      " 530.  532.5 535.  537.5 540.  542.5 545.  547.5 550.  552.5 555.  557.5\n",
      " 560.  562.5 565.  567.5 570.  572.5 575.  577.5 580.  582.5 585.  587.5\n",
      " 590.  592.5 595.  597.5 600.  602.5 605.  607.5 610.  612.5 615.  617.5\n",
      " 620.  622.5 625.  627.5 630.  632.5 635.  637.5 640.  642.5 645.  647.5\n",
      " 650.  652.5 655.  657.5 660.  662.5 665.  667.5 670.  672.5 675.  677.5\n",
      " 680.  682.5 685.  687.5 690.  692.5 695.  697.5 700.  702.5 705.  707.5\n",
      " 710.  712.5 715.  717.5 720.  722.5 725.  727.5 730.  732.5 735.  737.5\n",
      " 740.  742.5 745.  747.5 750.  752.5 755.  757.5 760.  762.5 765.  767.5\n",
      " 770.  772.5 775.  777.5 780. ]\n"
     ]
    }
   ],
   "source": [
    "print(Wavelengths)"
   ]
  },
  {
   "cell_type": "code",
   "execution_count": 8,
   "id": "4eb6bd05",
   "metadata": {},
   "outputs": [
    {
     "name": "stdout",
     "output_type": "stream",
     "text": [
      "0      1.542981e-08\n",
      "1      1.619919e-08\n",
      "2      1.695580e-08\n",
      "3      1.768348e-08\n",
      "4      1.846166e-08\n",
      "           ...     \n",
      "108    2.633393e-08\n",
      "109    2.625768e-08\n",
      "110    2.618158e-08\n",
      "111    2.611392e-08\n",
      "112    2.604256e-08\n",
      "Length: 113, dtype: float64\n"
     ]
    }
   ],
   "source": [
    "print(hit_Scat_byM)"
   ]
  },
  {
   "cell_type": "code",
   "execution_count": 9,
   "id": "c2a5e181",
   "metadata": {},
   "outputs": [
    {
     "name": "stdout",
     "output_type": "stream",
     "text": [
      "0      0.068717\n",
      "1      0.073198\n",
      "2      0.077777\n",
      "3      0.082291\n",
      "4      0.086616\n",
      "         ...   \n",
      "108    0.095141\n",
      "109    0.094151\n",
      "110    0.093102\n",
      "111    0.091755\n",
      "112    0.090543\n",
      "Length: 113, dtype: float64\n"
     ]
    }
   ],
   "source": [
    "print(hit_Ext_byM)"
   ]
  },
  {
   "cell_type": "markdown",
   "id": "3bb3c986",
   "metadata": {},
   "source": [
    "## Correction data for sample absorption and scattering"
   ]
  },
  {
   "cell_type": "code",
   "execution_count": 10,
   "id": "3416f8bc",
   "metadata": {},
   "outputs": [],
   "source": [
    "miss,repeat = parameter_formatting_WL(filename2+'.csv')\n",
    "Wavelengths=miss.loc[::repeat,'Wavelength(nm)'].values\n",
    "miss_Scat_byM = miss.loc[:,'IS(A)']/miss.loc[:,\"M(V)\"]\n",
    "miss_Scat_byM = miss_Scat_byM.groupby(np.arange(len(miss_Scat_byM))//repeat).mean()\n",
    "miss_Ext_byM = miss.loc[:,\"R(V)\"]/miss.loc[:,\"M(V)\"]\n",
    "miss_Ext_byM = miss_Ext_byM.groupby(np.arange(len(miss_Ext_byM))//repeat).mean()"
   ]
  },
  {
   "cell_type": "code",
   "execution_count": 11,
   "id": "4701545d",
   "metadata": {},
   "outputs": [
    {
     "data": {
      "text/html": [
       "<div>\n",
       "<style scoped>\n",
       "    .dataframe tbody tr th:only-of-type {\n",
       "        vertical-align: middle;\n",
       "    }\n",
       "\n",
       "    .dataframe tbody tr th {\n",
       "        vertical-align: top;\n",
       "    }\n",
       "\n",
       "    .dataframe thead th {\n",
       "        text-align: right;\n",
       "    }\n",
       "</style>\n",
       "<table border=\"1\" class=\"dataframe\">\n",
       "  <thead>\n",
       "    <tr style=\"text-align: right;\">\n",
       "      <th></th>\n",
       "      <th>Wavelength(nm)</th>\n",
       "      <th>FocusCorrectionY[µm]</th>\n",
       "      <th>Repeat(x)</th>\n",
       "      <th>M(V)</th>\n",
       "      <th>Phase(')</th>\n",
       "      <th>IS(A)</th>\n",
       "      <th>Phase(').1</th>\n",
       "      <th>R(V)</th>\n",
       "      <th>Phase(').2</th>\n",
       "    </tr>\n",
       "  </thead>\n",
       "  <tbody>\n",
       "    <tr>\n",
       "      <th>0</th>\n",
       "      <td>500.0</td>\n",
       "      <td>2.400</td>\n",
       "      <td>0</td>\n",
       "      <td>0.026294</td>\n",
       "      <td>1.59</td>\n",
       "      <td>4.083283e-10</td>\n",
       "      <td>0.18</td>\n",
       "      <td>0.001871</td>\n",
       "      <td>0.17</td>\n",
       "    </tr>\n",
       "    <tr>\n",
       "      <th>1</th>\n",
       "      <td>500.0</td>\n",
       "      <td>2.400</td>\n",
       "      <td>1</td>\n",
       "      <td>0.026287</td>\n",
       "      <td>1.59</td>\n",
       "      <td>4.080054e-10</td>\n",
       "      <td>0.18</td>\n",
       "      <td>0.001870</td>\n",
       "      <td>0.17</td>\n",
       "    </tr>\n",
       "    <tr>\n",
       "      <th>2</th>\n",
       "      <td>500.0</td>\n",
       "      <td>2.400</td>\n",
       "      <td>2</td>\n",
       "      <td>0.026295</td>\n",
       "      <td>1.59</td>\n",
       "      <td>4.066391e-10</td>\n",
       "      <td>0.18</td>\n",
       "      <td>0.001869</td>\n",
       "      <td>0.17</td>\n",
       "    </tr>\n",
       "    <tr>\n",
       "      <th>3</th>\n",
       "      <td>502.5</td>\n",
       "      <td>2.447</td>\n",
       "      <td>0</td>\n",
       "      <td>0.031742</td>\n",
       "      <td>1.59</td>\n",
       "      <td>5.181832e-10</td>\n",
       "      <td>0.19</td>\n",
       "      <td>0.002407</td>\n",
       "      <td>0.17</td>\n",
       "    </tr>\n",
       "    <tr>\n",
       "      <th>4</th>\n",
       "      <td>502.5</td>\n",
       "      <td>2.447</td>\n",
       "      <td>1</td>\n",
       "      <td>0.031743</td>\n",
       "      <td>1.59</td>\n",
       "      <td>5.180986e-10</td>\n",
       "      <td>0.19</td>\n",
       "      <td>0.002409</td>\n",
       "      <td>0.17</td>\n",
       "    </tr>\n",
       "    <tr>\n",
       "      <th>...</th>\n",
       "      <td>...</td>\n",
       "      <td>...</td>\n",
       "      <td>...</td>\n",
       "      <td>...</td>\n",
       "      <td>...</td>\n",
       "      <td>...</td>\n",
       "      <td>...</td>\n",
       "      <td>...</td>\n",
       "      <td>...</td>\n",
       "    </tr>\n",
       "    <tr>\n",
       "      <th>334</th>\n",
       "      <td>777.5</td>\n",
       "      <td>-1.078</td>\n",
       "      <td>1</td>\n",
       "      <td>0.136309</td>\n",
       "      <td>1.59</td>\n",
       "      <td>3.554285e-09</td>\n",
       "      <td>0.18</td>\n",
       "      <td>0.012583</td>\n",
       "      <td>0.17</td>\n",
       "    </tr>\n",
       "    <tr>\n",
       "      <th>335</th>\n",
       "      <td>777.5</td>\n",
       "      <td>-1.078</td>\n",
       "      <td>2</td>\n",
       "      <td>0.136310</td>\n",
       "      <td>1.59</td>\n",
       "      <td>3.554452e-09</td>\n",
       "      <td>0.18</td>\n",
       "      <td>0.012580</td>\n",
       "      <td>0.17</td>\n",
       "    </tr>\n",
       "    <tr>\n",
       "      <th>336</th>\n",
       "      <td>780.0</td>\n",
       "      <td>-1.126</td>\n",
       "      <td>0</td>\n",
       "      <td>0.138507</td>\n",
       "      <td>1.59</td>\n",
       "      <td>3.598706e-09</td>\n",
       "      <td>0.18</td>\n",
       "      <td>0.012610</td>\n",
       "      <td>0.17</td>\n",
       "    </tr>\n",
       "    <tr>\n",
       "      <th>337</th>\n",
       "      <td>780.0</td>\n",
       "      <td>-1.126</td>\n",
       "      <td>1</td>\n",
       "      <td>0.138507</td>\n",
       "      <td>1.59</td>\n",
       "      <td>3.601390e-09</td>\n",
       "      <td>0.18</td>\n",
       "      <td>0.012622</td>\n",
       "      <td>0.17</td>\n",
       "    </tr>\n",
       "    <tr>\n",
       "      <th>338</th>\n",
       "      <td>780.0</td>\n",
       "      <td>-1.126</td>\n",
       "      <td>2</td>\n",
       "      <td>0.138568</td>\n",
       "      <td>1.59</td>\n",
       "      <td>3.605301e-09</td>\n",
       "      <td>0.18</td>\n",
       "      <td>0.012626</td>\n",
       "      <td>0.17</td>\n",
       "    </tr>\n",
       "  </tbody>\n",
       "</table>\n",
       "<p>339 rows × 9 columns</p>\n",
       "</div>"
      ],
      "text/plain": [
       "     Wavelength(nm)  FocusCorrectionY[µm]  Repeat(x)      M(V)  Phase(')  \\\n",
       "0             500.0                 2.400          0  0.026294      1.59   \n",
       "1             500.0                 2.400          1  0.026287      1.59   \n",
       "2             500.0                 2.400          2  0.026295      1.59   \n",
       "3             502.5                 2.447          0  0.031742      1.59   \n",
       "4             502.5                 2.447          1  0.031743      1.59   \n",
       "..              ...                   ...        ...       ...       ...   \n",
       "334           777.5                -1.078          1  0.136309      1.59   \n",
       "335           777.5                -1.078          2  0.136310      1.59   \n",
       "336           780.0                -1.126          0  0.138507      1.59   \n",
       "337           780.0                -1.126          1  0.138507      1.59   \n",
       "338           780.0                -1.126          2  0.138568      1.59   \n",
       "\n",
       "            IS(A)  Phase(').1      R(V)  Phase(').2  \n",
       "0    4.083283e-10        0.18  0.001871        0.17  \n",
       "1    4.080054e-10        0.18  0.001870        0.17  \n",
       "2    4.066391e-10        0.18  0.001869        0.17  \n",
       "3    5.181832e-10        0.19  0.002407        0.17  \n",
       "4    5.180986e-10        0.19  0.002409        0.17  \n",
       "..            ...         ...       ...         ...  \n",
       "334  3.554285e-09        0.18  0.012583        0.17  \n",
       "335  3.554452e-09        0.18  0.012580        0.17  \n",
       "336  3.598706e-09        0.18  0.012610        0.17  \n",
       "337  3.601390e-09        0.18  0.012622        0.17  \n",
       "338  3.605301e-09        0.18  0.012626        0.17  \n",
       "\n",
       "[339 rows x 9 columns]"
      ]
     },
     "execution_count": 11,
     "metadata": {},
     "output_type": "execute_result"
    }
   ],
   "source": [
    "miss"
   ]
  },
  {
   "cell_type": "code",
   "execution_count": 12,
   "id": "473871e7",
   "metadata": {},
   "outputs": [
    {
     "name": "stdout",
     "output_type": "stream",
     "text": [
      "0      1.550497e-08\n",
      "1      1.630081e-08\n",
      "2      1.698413e-08\n",
      "3      1.775758e-08\n",
      "4      1.850739e-08\n",
      "           ...     \n",
      "108    2.628449e-08\n",
      "109    2.621731e-08\n",
      "110    2.614436e-08\n",
      "111    2.608073e-08\n",
      "112    2.600056e-08\n",
      "Length: 113, dtype: float64\n"
     ]
    }
   ],
   "source": [
    "print(miss_Scat_byM)"
   ]
  },
  {
   "cell_type": "code",
   "execution_count": 13,
   "id": "46ef34d6",
   "metadata": {},
   "outputs": [
    {
     "name": "stdout",
     "output_type": "stream",
     "text": [
      "0      0.071121\n",
      "1      0.075868\n",
      "2      0.080447\n",
      "3      0.085226\n",
      "4      0.089882\n",
      "         ...   \n",
      "108    0.095826\n",
      "109    0.094665\n",
      "110    0.093629\n",
      "111    0.092314\n",
      "112    0.091096\n",
      "Length: 113, dtype: float64\n"
     ]
    }
   ],
   "source": [
    "print(miss_Ext_byM)"
   ]
  },
  {
   "cell_type": "markdown",
   "id": "6cb5fc70",
   "metadata": {},
   "source": [
    "## Corrected Extinction (Reflection detector)"
   ]
  },
  {
   "cell_type": "code",
   "execution_count": 14,
   "id": "1e80ffe2",
   "metadata": {},
   "outputs": [],
   "source": [
    "Corr_Ext=1.00-(hit_Ext_byM/miss_Ext_byM)"
   ]
  },
  {
   "cell_type": "code",
   "execution_count": 15,
   "id": "9ef301da",
   "metadata": {},
   "outputs": [
    {
     "name": "stdout",
     "output_type": "stream",
     "text": [
      "0      0.033801\n",
      "1      0.035186\n",
      "2      0.033188\n",
      "3      0.034440\n",
      "4      0.036327\n",
      "         ...   \n",
      "108    0.007150\n",
      "109    0.005429\n",
      "110    0.005632\n",
      "111    0.006060\n",
      "112    0.006073\n",
      "Length: 113, dtype: float64\n"
     ]
    }
   ],
   "source": [
    "print(Corr_Ext)"
   ]
  },
  {
   "cell_type": "markdown",
   "id": "a10823c0",
   "metadata": {},
   "source": [
    "## Corrected extinction plot"
   ]
  },
  {
   "cell_type": "code",
   "execution_count": 16,
   "id": "c34c829f",
   "metadata": {},
   "outputs": [
    {
     "data": {
      "text/plain": [
       "<matplotlib.legend.Legend at 0x7f15e4259e50>"
      ]
     },
     "execution_count": 16,
     "metadata": {},
     "output_type": "execute_result"
    },
    {
     "data": {
      "image/png": "[encoded data removed]",
      "text/plain": [
       "<Figure size 432x288 with 1 Axes>"
      ]
     },
     "metadata": {
      "needs_background": "light"
     },
     "output_type": "display_data"
    }
   ],
   "source": [
    "plt.plot(Wavelengths,Corr_Ext,'-rx')\n",
    "plt.title('Optical characteristics')\n",
    "plt.xlabel('Wavelength (nm)')\n",
    "plt.ylabel('fraction_hit/miss')\n",
    "plt.legend(['Corrected Extinction_C5'], loc='best')"
   ]
  },
  {
   "cell_type": "markdown",
   "id": "5e8a74b0",
   "metadata": {},
   "source": [
    "## Finding the best-fit Lorentzian to the extinction data"
   ]
  },
  {
   "cell_type": "code",
   "execution_count": 17,
   "id": "b2404c09",
   "metadata": {},
   "outputs": [],
   "source": [
    "xData=Wavelengths\n",
    "yData=Corr_Ext"
   ]
  },
  {
   "cell_type": "code",
   "execution_count": 18,
   "id": "06c66045",
   "metadata": {},
   "outputs": [],
   "source": [
    "begin_index = np.nonzero(xData==680)[0][0]\n",
    "end_index = len(xData)-1\n",
    "fit_range = slice(begin_index, end_index)\n",
    "xfit = xData[fit_range]\n",
    "yfit = abs(yData[fit_range])"
   ]
  },
  {
   "cell_type": "code",
   "execution_count": 19,
   "id": "68ebb4d3",
   "metadata": {},
   "outputs": [
    {
     "name": "stdout",
     "output_type": "stream",
     "text": [
      "[680.  682.5 685.  687.5 690.  692.5 695.  697.5 700.  702.5 705.  707.5\n",
      " 710.  712.5 715.  717.5 720.  722.5 725.  727.5 730.  732.5 735.  737.5\n",
      " 740.  742.5 745.  747.5 750.  752.5 755.  757.5 760.  762.5 765.  767.5\n",
      " 770.  772.5 775.  777.5]\n"
     ]
    }
   ],
   "source": [
    "print(xfit)"
   ]
  },
  {
   "cell_type": "code",
   "execution_count": 20,
   "id": "30112788",
   "metadata": {},
   "outputs": [
    {
     "name": "stdout",
     "output_type": "stream",
     "text": [
      "72     0.004814\n",
      "73     0.004982\n",
      "74     0.005399\n",
      "75     0.004722\n",
      "76     0.005248\n",
      "77     0.005737\n",
      "78     0.006153\n",
      "79     0.006711\n",
      "80     0.007002\n",
      "81     0.008285\n",
      "82     0.007958\n",
      "83     0.009184\n",
      "84     0.011492\n",
      "85     0.012442\n",
      "86     0.014632\n",
      "87     0.016652\n",
      "88     0.018720\n",
      "89     0.021276\n",
      "90     0.022593\n",
      "91     0.024388\n",
      "92     0.025399\n",
      "93     0.024643\n",
      "94     0.023418\n",
      "95     0.021215\n",
      "96     0.018575\n",
      "97     0.016209\n",
      "98     0.013906\n",
      "99     0.014050\n",
      "100    0.011319\n",
      "101    0.010522\n",
      "102    0.009998\n",
      "103    0.008256\n",
      "104    0.008116\n",
      "105    0.007687\n",
      "106    0.006787\n",
      "107    0.006696\n",
      "108    0.007150\n",
      "109    0.005429\n",
      "110    0.005632\n",
      "111    0.006060\n",
      "dtype: float64\n"
     ]
    }
   ],
   "source": [
    "print(yfit)"
   ]
  },
  {
   "cell_type": "code",
   "execution_count": 21,
   "id": "31cd0272",
   "metadata": {},
   "outputs": [],
   "source": [
    "model=LorentzianModel()"
   ]
  },
  {
   "cell_type": "code",
   "execution_count": 22,
   "id": "e894bee2",
   "metadata": {},
   "outputs": [
    {
     "data": {
      "text/plain": [
       "<function matplotlib.pyplot.show(close=None, block=None)>"
      ]
     },
     "execution_count": 22,
     "metadata": {},
     "output_type": "execute_result"
    },
    {
     "data": {
      "image/png": "[encoded data removed]",
      "text/plain": [
       "<Figure size 432x288 with 1 Axes>"
      ]
     },
     "metadata": {
      "needs_background": "light"
     },
     "output_type": "display_data"
    }
   ],
   "source": [
    "params=model.guess(yfit.values,x=xfit)\n",
    "result=model.fit(yfit.values,params,x=xfit)\n",
    "result.plot_fit()\n",
    "plt.title('Optical characteristics')\n",
    "plt.xlabel('Wavelength (nm)')\n",
    "plt.ylabel('fraction_hit/miss')\n",
    "plt.legend(['Corrected Extinction_C5','Best-fit Lorentzian'], loc='best')\n",
    "plt.show"
   ]
  },
  {
   "cell_type": "code",
   "execution_count": 23,
   "id": "a93f143e",
   "metadata": {},
   "outputs": [
    {
     "name": "stdout",
     "output_type": "stream",
     "text": [
      "[[Model]]\n",
      "    Model(lorentzian)\n",
      "[[Fit Statistics]]\n",
      "    # fitting method   = leastsq\n",
      "    # function evals   = 25\n",
      "    # data points      = 40\n",
      "    # variables        = 3\n",
      "    chi-square         = 4.0690e-05\n",
      "    reduced chi-square = 1.0997e-06\n",
      "    Akaike info crit   = -545.935917\n",
      "    Bayesian info crit = -540.869279\n",
      "[[Variables]]\n",
      "    amplitude:  1.52451624 +/- 0.02880096 (1.89%) (init = 0.9692294)\n",
      "    center:     730.389241 +/- 0.35102097 (0.05%) (init = 730)\n",
      "    sigma:      20.1414917 +/- 0.54062573 (2.68%) (init = 12.5)\n",
      "    fwhm:       40.2829835 +/- 1.08125146 (2.68%) == '2.0000000*sigma'\n",
      "    height:     0.02409298 +/- 4.2509e-04 (1.76%) == '0.3183099*amplitude/max(1e-15, sigma)'\n",
      "[[Correlations]] (unreported correlations are < 0.100)\n",
      "    C(amplitude, sigma) = 0.755\n"
     ]
    }
   ],
   "source": [
    "print(result.fit_report())"
   ]
  },
  {
   "cell_type": "markdown",
   "id": "ce007374",
   "metadata": {},
   "source": [
    "# Perform the above protocol for 10 consecutive scans taken at different reaction times to analyse the changes in the extinction trends and to check for any red or blue shifts of the extinction curve"
   ]
  },
  {
   "cell_type": "markdown",
   "id": "f3d1466b",
   "metadata": {},
   "source": [
    "## Actual sample measurement data for the 10 consecutive scans"
   ]
  },
  {
   "cell_type": "code",
   "execution_count": 24,
   "id": "be2ef7c8",
   "metadata": {},
   "outputs": [],
   "source": [
    "hit_cons,repeat_cons = parameter_formatting_WL(filename3+'.csv',86,4,3)\n",
    "hit_cons_Scat_byM = hit_cons.loc[:,'IS(A)']/hit_cons.loc[:,\"M(V)\"]\n",
    "hit_cons_Scat_byM = hit_cons_Scat_byM.groupby(np.arange(len(hit_cons_Scat_byM))//repeat_cons).mean()\n",
    "hit_cons_Ext_byM = hit_cons.loc[:,\"R(V)\"]/hit_cons.loc[:,\"M(V)\"]\n",
    "hit_cons_Ext_byM = hit_cons_Ext_byM.groupby(np.arange(len(hit_cons_Ext_byM))//repeat_cons).mean()"
   ]
  },
  {
   "cell_type": "code",
   "execution_count": 25,
   "id": "a4706e68",
   "metadata": {},
   "outputs": [
    {
     "data": {
      "text/html": [
       "<div>\n",
       "<style scoped>\n",
       "    .dataframe tbody tr th:only-of-type {\n",
       "        vertical-align: middle;\n",
       "    }\n",
       "\n",
       "    .dataframe tbody tr th {\n",
       "        vertical-align: top;\n",
       "    }\n",
       "\n",
       "    .dataframe thead th {\n",
       "        text-align: right;\n",
       "    }\n",
       "</style>\n",
       "<table border=\"1\" class=\"dataframe\">\n",
       "  <thead>\n",
       "    <tr style=\"text-align: right;\">\n",
       "      <th></th>\n",
       "      <th></th>\n",
       "      <th>Wavelength(nm)</th>\n",
       "      <th>FocusCorrectionY[µm]</th>\n",
       "      <th>Repeat(x)</th>\n",
       "      <th>M(V)</th>\n",
       "      <th>Phase(')</th>\n",
       "      <th>IS(A)</th>\n",
       "      <th>Phase(').1</th>\n",
       "      <th>R(V)</th>\n",
       "      <th>Phase(').2</th>\n",
       "    </tr>\n",
       "  </thead>\n",
       "  <tbody>\n",
       "    <tr>\n",
       "      <th>0</th>\n",
       "      <th>0</th>\n",
       "      <td>500.0</td>\n",
       "      <td>2.400</td>\n",
       "      <td>0</td>\n",
       "      <td>0.027642</td>\n",
       "      <td>1.81</td>\n",
       "      <td>4.237524e-10</td>\n",
       "      <td>0.26</td>\n",
       "      <td>0.002497</td>\n",
       "      <td>0.25</td>\n",
       "    </tr>\n",
       "    <tr>\n",
       "      <th>1</th>\n",
       "      <th>0</th>\n",
       "      <td>500.0</td>\n",
       "      <td>2.400</td>\n",
       "      <td>1</td>\n",
       "      <td>0.027671</td>\n",
       "      <td>1.81</td>\n",
       "      <td>4.235331e-10</td>\n",
       "      <td>0.26</td>\n",
       "      <td>0.002500</td>\n",
       "      <td>0.25</td>\n",
       "    </tr>\n",
       "    <tr>\n",
       "      <th>2</th>\n",
       "      <th>0</th>\n",
       "      <td>500.0</td>\n",
       "      <td>2.400</td>\n",
       "      <td>2</td>\n",
       "      <td>0.027671</td>\n",
       "      <td>1.81</td>\n",
       "      <td>3.558676e-10</td>\n",
       "      <td>0.43</td>\n",
       "      <td>0.002508</td>\n",
       "      <td>0.25</td>\n",
       "    </tr>\n",
       "    <tr>\n",
       "      <th>3</th>\n",
       "      <th>0</th>\n",
       "      <td>502.5</td>\n",
       "      <td>2.447</td>\n",
       "      <td>0</td>\n",
       "      <td>0.033028</td>\n",
       "      <td>1.81</td>\n",
       "      <td>5.280685e-10</td>\n",
       "      <td>0.26</td>\n",
       "      <td>0.003166</td>\n",
       "      <td>0.25</td>\n",
       "    </tr>\n",
       "    <tr>\n",
       "      <th>4</th>\n",
       "      <th>0</th>\n",
       "      <td>502.5</td>\n",
       "      <td>2.447</td>\n",
       "      <td>1</td>\n",
       "      <td>0.032995</td>\n",
       "      <td>1.81</td>\n",
       "      <td>5.276303e-10</td>\n",
       "      <td>0.26</td>\n",
       "      <td>0.003163</td>\n",
       "      <td>0.25</td>\n",
       "    </tr>\n",
       "    <tr>\n",
       "      <th>...</th>\n",
       "      <th>...</th>\n",
       "      <td>...</td>\n",
       "      <td>...</td>\n",
       "      <td>...</td>\n",
       "      <td>...</td>\n",
       "      <td>...</td>\n",
       "      <td>...</td>\n",
       "      <td>...</td>\n",
       "      <td>...</td>\n",
       "      <td>...</td>\n",
       "    </tr>\n",
       "    <tr>\n",
       "      <th>3385</th>\n",
       "      <th>9</th>\n",
       "      <td>777.5</td>\n",
       "      <td>2.139</td>\n",
       "      <td>1</td>\n",
       "      <td>0.144068</td>\n",
       "      <td>1.81</td>\n",
       "      <td>3.497644e-09</td>\n",
       "      <td>0.26</td>\n",
       "      <td>0.015716</td>\n",
       "      <td>0.25</td>\n",
       "    </tr>\n",
       "    <tr>\n",
       "      <th>3386</th>\n",
       "      <th>9</th>\n",
       "      <td>777.5</td>\n",
       "      <td>2.139</td>\n",
       "      <td>2</td>\n",
       "      <td>0.144068</td>\n",
       "      <td>1.81</td>\n",
       "      <td>3.496765e-09</td>\n",
       "      <td>0.26</td>\n",
       "      <td>0.015716</td>\n",
       "      <td>0.25</td>\n",
       "    </tr>\n",
       "    <tr>\n",
       "      <th>3387</th>\n",
       "      <th>9</th>\n",
       "      <td>780.0</td>\n",
       "      <td>2.400</td>\n",
       "      <td>0</td>\n",
       "      <td>0.146762</td>\n",
       "      <td>1.81</td>\n",
       "      <td>3.549900e-09</td>\n",
       "      <td>0.26</td>\n",
       "      <td>0.015796</td>\n",
       "      <td>0.25</td>\n",
       "    </tr>\n",
       "    <tr>\n",
       "      <th>3388</th>\n",
       "      <th>9</th>\n",
       "      <td>780.0</td>\n",
       "      <td>2.400</td>\n",
       "      <td>1</td>\n",
       "      <td>0.146777</td>\n",
       "      <td>1.81</td>\n",
       "      <td>3.549255e-09</td>\n",
       "      <td>0.26</td>\n",
       "      <td>0.015791</td>\n",
       "      <td>0.25</td>\n",
       "    </tr>\n",
       "    <tr>\n",
       "      <th>3389</th>\n",
       "      <th>9</th>\n",
       "      <td>780.0</td>\n",
       "      <td>2.400</td>\n",
       "      <td>2</td>\n",
       "      <td>0.146703</td>\n",
       "      <td>1.81</td>\n",
       "      <td>3.548376e-09</td>\n",
       "      <td>0.26</td>\n",
       "      <td>0.015788</td>\n",
       "      <td>0.25</td>\n",
       "    </tr>\n",
       "  </tbody>\n",
       "</table>\n",
       "<p>3390 rows × 9 columns</p>\n",
       "</div>"
      ],
      "text/plain": [
       "        Wavelength(nm)  FocusCorrectionY[µm]  Repeat(x)      M(V)  Phase(')  \\\n",
       "0    0           500.0                 2.400          0  0.027642      1.81   \n",
       "1    0           500.0                 2.400          1  0.027671      1.81   \n",
       "2    0           500.0                 2.400          2  0.027671      1.81   \n",
       "3    0           502.5                 2.447          0  0.033028      1.81   \n",
       "4    0           502.5                 2.447          1  0.032995      1.81   \n",
       "...                ...                   ...        ...       ...       ...   \n",
       "3385 9           777.5                 2.139          1  0.144068      1.81   \n",
       "3386 9           777.5                 2.139          2  0.144068      1.81   \n",
       "3387 9           780.0                 2.400          0  0.146762      1.81   \n",
       "3388 9           780.0                 2.400          1  0.146777      1.81   \n",
       "3389 9           780.0                 2.400          2  0.146703      1.81   \n",
       "\n",
       "               IS(A)  Phase(').1      R(V)  Phase(').2  \n",
       "0    0  4.237524e-10        0.26  0.002497        0.25  \n",
       "1    0  4.235331e-10        0.26  0.002500        0.25  \n",
       "2    0  3.558676e-10        0.43  0.002508        0.25  \n",
       "3    0  5.280685e-10        0.26  0.003166        0.25  \n",
       "4    0  5.276303e-10        0.26  0.003163        0.25  \n",
       "...              ...         ...       ...         ...  \n",
       "3385 9  3.497644e-09        0.26  0.015716        0.25  \n",
       "3386 9  3.496765e-09        0.26  0.015716        0.25  \n",
       "3387 9  3.549900e-09        0.26  0.015796        0.25  \n",
       "3388 9  3.549255e-09        0.26  0.015791        0.25  \n",
       "3389 9  3.548376e-09        0.26  0.015788        0.25  \n",
       "\n",
       "[3390 rows x 9 columns]"
      ]
     },
     "execution_count": 25,
     "metadata": {},
     "output_type": "execute_result"
    }
   ],
   "source": [
    "hit_cons"
   ]
  },
  {
   "cell_type": "code",
   "execution_count": 26,
   "id": "d5a996fa",
   "metadata": {},
   "outputs": [
    {
     "data": {
      "text/plain": [
       "3"
      ]
     },
     "execution_count": 26,
     "metadata": {},
     "output_type": "execute_result"
    }
   ],
   "source": [
    "repeat_cons"
   ]
  },
  {
   "cell_type": "code",
   "execution_count": 27,
   "id": "c9de1eec",
   "metadata": {},
   "outputs": [
    {
     "name": "stdout",
     "output_type": "stream",
     "text": [
      "0       1.449886e-08\n",
      "1       1.599280e-08\n",
      "2       1.676310e-08\n",
      "3       1.761089e-08\n",
      "4       1.844225e-08\n",
      "            ...     \n",
      "1125    2.451573e-08\n",
      "1126    2.444992e-08\n",
      "1127    2.435940e-08\n",
      "1128    2.427768e-08\n",
      "1129    2.418565e-08\n",
      "Length: 1130, dtype: float64\n"
     ]
    }
   ],
   "source": [
    "print(hit_cons_Scat_byM)"
   ]
  },
  {
   "cell_type": "code",
   "execution_count": 28,
   "id": "18c52319",
   "metadata": {},
   "outputs": [
    {
     "name": "stdout",
     "output_type": "stream",
     "text": [
      "0       0.090446\n",
      "1       0.095869\n",
      "2       0.101447\n",
      "3       0.107573\n",
      "4       0.113658\n",
      "          ...   \n",
      "1125    0.113240\n",
      "1126    0.111873\n",
      "1127    0.110539\n",
      "1128    0.109089\n",
      "1129    0.107610\n",
      "Length: 1130, dtype: float64\n"
     ]
    }
   ],
   "source": [
    "print(hit_cons_Ext_byM)"
   ]
  },
  {
   "cell_type": "markdown",
   "id": "baf7fb00",
   "metadata": {},
   "source": [
    "## Correction data for sample absorption and scattering for 10 consecutive scans"
   ]
  },
  {
   "cell_type": "code",
   "execution_count": 29,
   "id": "54ed0171",
   "metadata": {},
   "outputs": [],
   "source": [
    "miss_cons,repeat_cons = parameter_formatting_WL(filename4+'.csv')\n",
    "miss_cons_Scat_byM = miss_cons.loc[:,'IS(A)']/miss_cons.loc[:,\"M(V)\"]\n",
    "miss_cons_Scat_byM = miss_cons_Scat_byM.groupby(np.arange(len(miss_cons_Scat_byM))//repeat_cons).mean()\n",
    "miss_cons_Ext_byM = miss_cons.loc[:,\"R(V)\"]/miss_cons.loc[:,\"M(V)\"]\n",
    "miss_cons_Ext_byM = miss_cons_Ext_byM.groupby(np.arange(len(miss_cons_Ext_byM))//repeat_cons).mean()"
   ]
  },
  {
   "cell_type": "code",
   "execution_count": 30,
   "id": "1ba218cf",
   "metadata": {},
   "outputs": [
    {
     "data": {
      "text/html": [
       "<div>\n",
       "<style scoped>\n",
       "    .dataframe tbody tr th:only-of-type {\n",
       "        vertical-align: middle;\n",
       "    }\n",
       "\n",
       "    .dataframe tbody tr th {\n",
       "        vertical-align: top;\n",
       "    }\n",
       "\n",
       "    .dataframe thead th {\n",
       "        text-align: right;\n",
       "    }\n",
       "</style>\n",
       "<table border=\"1\" class=\"dataframe\">\n",
       "  <thead>\n",
       "    <tr style=\"text-align: right;\">\n",
       "      <th></th>\n",
       "      <th>Wavelength(nm)</th>\n",
       "      <th>FocusCorrectionY[µm]</th>\n",
       "      <th>Repeat(x)</th>\n",
       "      <th>M(V)</th>\n",
       "      <th>Phase(')</th>\n",
       "      <th>IS(A)</th>\n",
       "      <th>Phase(').1</th>\n",
       "      <th>R(V)</th>\n",
       "      <th>Phase(').2</th>\n",
       "    </tr>\n",
       "  </thead>\n",
       "  <tbody>\n",
       "    <tr>\n",
       "      <th>0</th>\n",
       "      <td>500.0</td>\n",
       "      <td>2.400</td>\n",
       "      <td>0</td>\n",
       "      <td>0.027816</td>\n",
       "      <td>1.81</td>\n",
       "      <td>4.269022e-10</td>\n",
       "      <td>0.26</td>\n",
       "      <td>0.002569</td>\n",
       "      <td>0.25</td>\n",
       "    </tr>\n",
       "    <tr>\n",
       "      <th>1</th>\n",
       "      <td>500.0</td>\n",
       "      <td>2.400</td>\n",
       "      <td>1</td>\n",
       "      <td>0.027770</td>\n",
       "      <td>1.81</td>\n",
       "      <td>4.256272e-10</td>\n",
       "      <td>0.26</td>\n",
       "      <td>0.002561</td>\n",
       "      <td>0.25</td>\n",
       "    </tr>\n",
       "    <tr>\n",
       "      <th>2</th>\n",
       "      <td>500.0</td>\n",
       "      <td>2.400</td>\n",
       "      <td>2</td>\n",
       "      <td>0.027836</td>\n",
       "      <td>1.81</td>\n",
       "      <td>4.271814e-10</td>\n",
       "      <td>0.26</td>\n",
       "      <td>0.002564</td>\n",
       "      <td>0.25</td>\n",
       "    </tr>\n",
       "    <tr>\n",
       "      <th>3</th>\n",
       "      <td>502.5</td>\n",
       "      <td>2.447</td>\n",
       "      <td>0</td>\n",
       "      <td>0.033212</td>\n",
       "      <td>1.81</td>\n",
       "      <td>5.335586e-10</td>\n",
       "      <td>0.26</td>\n",
       "      <td>0.003245</td>\n",
       "      <td>0.25</td>\n",
       "    </tr>\n",
       "    <tr>\n",
       "      <th>4</th>\n",
       "      <td>502.5</td>\n",
       "      <td>2.447</td>\n",
       "      <td>1</td>\n",
       "      <td>0.033217</td>\n",
       "      <td>1.81</td>\n",
       "      <td>5.336176e-10</td>\n",
       "      <td>0.26</td>\n",
       "      <td>0.003245</td>\n",
       "      <td>0.25</td>\n",
       "    </tr>\n",
       "    <tr>\n",
       "      <th>...</th>\n",
       "      <td>...</td>\n",
       "      <td>...</td>\n",
       "      <td>...</td>\n",
       "      <td>...</td>\n",
       "      <td>...</td>\n",
       "      <td>...</td>\n",
       "      <td>...</td>\n",
       "      <td>...</td>\n",
       "      <td>...</td>\n",
       "    </tr>\n",
       "    <tr>\n",
       "      <th>334</th>\n",
       "      <td>777.5</td>\n",
       "      <td>-1.078</td>\n",
       "      <td>1</td>\n",
       "      <td>0.144083</td>\n",
       "      <td>1.81</td>\n",
       "      <td>3.505137e-09</td>\n",
       "      <td>0.26</td>\n",
       "      <td>0.015715</td>\n",
       "      <td>0.25</td>\n",
       "    </tr>\n",
       "    <tr>\n",
       "      <th>335</th>\n",
       "      <td>777.5</td>\n",
       "      <td>-1.078</td>\n",
       "      <td>2</td>\n",
       "      <td>0.144142</td>\n",
       "      <td>1.81</td>\n",
       "      <td>3.506016e-09</td>\n",
       "      <td>0.26</td>\n",
       "      <td>0.015729</td>\n",
       "      <td>0.25</td>\n",
       "    </tr>\n",
       "    <tr>\n",
       "      <th>336</th>\n",
       "      <td>780.0</td>\n",
       "      <td>-1.126</td>\n",
       "      <td>0</td>\n",
       "      <td>0.146703</td>\n",
       "      <td>1.81</td>\n",
       "      <td>3.557863e-09</td>\n",
       "      <td>0.26</td>\n",
       "      <td>0.015819</td>\n",
       "      <td>0.25</td>\n",
       "    </tr>\n",
       "    <tr>\n",
       "      <th>337</th>\n",
       "      <td>780.0</td>\n",
       "      <td>-1.126</td>\n",
       "      <td>1</td>\n",
       "      <td>0.146777</td>\n",
       "      <td>1.81</td>\n",
       "      <td>3.557627e-09</td>\n",
       "      <td>0.26</td>\n",
       "      <td>0.015822</td>\n",
       "      <td>0.25</td>\n",
       "    </tr>\n",
       "    <tr>\n",
       "      <th>338</th>\n",
       "      <td>780.0</td>\n",
       "      <td>-1.126</td>\n",
       "      <td>2</td>\n",
       "      <td>0.146762</td>\n",
       "      <td>1.81</td>\n",
       "      <td>3.559386e-09</td>\n",
       "      <td>0.26</td>\n",
       "      <td>0.015824</td>\n",
       "      <td>0.25</td>\n",
       "    </tr>\n",
       "  </tbody>\n",
       "</table>\n",
       "<p>339 rows × 9 columns</p>\n",
       "</div>"
      ],
      "text/plain": [
       "     Wavelength(nm)  FocusCorrectionY[µm]  Repeat(x)      M(V)  Phase(')  \\\n",
       "0             500.0                 2.400          0  0.027816      1.81   \n",
       "1             500.0                 2.400          1  0.027770      1.81   \n",
       "2             500.0                 2.400          2  0.027836      1.81   \n",
       "3             502.5                 2.447          0  0.033212      1.81   \n",
       "4             502.5                 2.447          1  0.033217      1.81   \n",
       "..              ...                   ...        ...       ...       ...   \n",
       "334           777.5                -1.078          1  0.144083      1.81   \n",
       "335           777.5                -1.078          2  0.144142      1.81   \n",
       "336           780.0                -1.126          0  0.146703      1.81   \n",
       "337           780.0                -1.126          1  0.146777      1.81   \n",
       "338           780.0                -1.126          2  0.146762      1.81   \n",
       "\n",
       "            IS(A)  Phase(').1      R(V)  Phase(').2  \n",
       "0    4.269022e-10        0.26  0.002569        0.25  \n",
       "1    4.256272e-10        0.26  0.002561        0.25  \n",
       "2    4.271814e-10        0.26  0.002564        0.25  \n",
       "3    5.335586e-10        0.26  0.003245        0.25  \n",
       "4    5.336176e-10        0.26  0.003245        0.25  \n",
       "..            ...         ...       ...         ...  \n",
       "334  3.505137e-09        0.26  0.015715        0.25  \n",
       "335  3.506016e-09        0.26  0.015729        0.25  \n",
       "336  3.557863e-09        0.26  0.015819        0.25  \n",
       "337  3.557627e-09        0.26  0.015822        0.25  \n",
       "338  3.559386e-09        0.26  0.015824        0.25  \n",
       "\n",
       "[339 rows x 9 columns]"
      ]
     },
     "execution_count": 30,
     "metadata": {},
     "output_type": "execute_result"
    }
   ],
   "source": [
    "miss_cons"
   ]
  },
  {
   "cell_type": "code",
   "execution_count": 31,
   "id": "130dc18d",
   "metadata": {},
   "outputs": [
    {
     "name": "stdout",
     "output_type": "stream",
     "text": [
      "0      1.534036e-08\n",
      "1      1.606184e-08\n",
      "2      1.680279e-08\n",
      "3      1.764896e-08\n",
      "4      1.848474e-08\n",
      "           ...     \n",
      "108    2.455393e-08\n",
      "109    2.449746e-08\n",
      "110    2.441298e-08\n",
      "111    2.432519e-08\n",
      "112    2.424776e-08\n",
      "Length: 113, dtype: float64\n"
     ]
    }
   ],
   "source": [
    "print(miss_cons_Scat_byM)"
   ]
  },
  {
   "cell_type": "code",
   "execution_count": 32,
   "id": "37eeedcb",
   "metadata": {},
   "outputs": [
    {
     "name": "stdout",
     "output_type": "stream",
     "text": [
      "0      0.092231\n",
      "1      0.097706\n",
      "2      0.103367\n",
      "3      0.109473\n",
      "4      0.115602\n",
      "         ...   \n",
      "108    0.112952\n",
      "109    0.111732\n",
      "110    0.110465\n",
      "111    0.109088\n",
      "112    0.107816\n",
      "Length: 113, dtype: float64\n"
     ]
    }
   ],
   "source": [
    "print(miss_cons_Ext_byM)"
   ]
  },
  {
   "cell_type": "markdown",
   "id": "633031c9",
   "metadata": {},
   "source": [
    "## Store consecutive scan data separately for subsequent analyses"
   ]
  },
  {
   "cell_type": "code",
   "execution_count": 33,
   "id": "741a944d",
   "metadata": {},
   "outputs": [],
   "source": [
    "hit_cons_Ext = np.zeros((113,10))\n",
    "for x in range(10):\n",
    "    loc=113*x\n",
    "    hit_cons_Ext[:,x]=hit_cons_Ext_byM[loc:(loc+113)]"
   ]
  },
  {
   "cell_type": "code",
   "execution_count": 34,
   "id": "aa532bb6",
   "metadata": {},
   "outputs": [
    {
     "name": "stdout",
     "output_type": "stream",
     "text": [
      "[[0.09044569 0.08861785 0.08866265 ... 0.08874067 0.08822848 0.08905847]\n",
      " [0.09586863 0.0937427  0.09400372 ... 0.09410788 0.0934426  0.09430542]\n",
      " [0.10144669 0.0991637  0.09940154 ... 0.09935044 0.09880618 0.09964003]\n",
      " ...\n",
      " [0.11037371 0.11037608 0.11035246 ... 0.11047581 0.11053528 0.11053896]\n",
      " [0.10889763 0.10893113 0.10887386 ... 0.10900749 0.10908796 0.10908858]\n",
      " [0.10747047 0.107545   0.10747843 ... 0.10756121 0.1076034  0.10760966]]\n"
     ]
    }
   ],
   "source": [
    "print(np.matrix(hit_cons_Ext))"
   ]
  },
  {
   "cell_type": "markdown",
   "id": "033f7b16",
   "metadata": {},
   "source": [
    "## Generating Extinction curves for each of the 10 consecutive scans"
   ]
  },
  {
   "cell_type": "code",
   "execution_count": 35,
   "id": "98125bbf",
   "metadata": {},
   "outputs": [],
   "source": [
    "Corr_cons_ext = np.zeros((113,10))\n",
    "for x in range(10):\n",
    "    Corr_cons_ext[:,x]=1.00-(hit_cons_Ext[:,x]/miss_cons_Ext_byM)"
   ]
  },
  {
   "cell_type": "code",
   "execution_count": 36,
   "id": "3bedb0fa",
   "metadata": {},
   "outputs": [],
   "source": [
    "xData=np.zeros((10,113))\n",
    "yData=np.zeros((10,113))\n",
    "for x in range(10):\n",
    "    xData[x,:]=Wavelengths\n",
    "    yData[x,:]=Corr_cons_ext[:,x]"
   ]
  },
  {
   "cell_type": "code",
   "execution_count": 37,
   "id": "491f9055",
   "metadata": {},
   "outputs": [
    {
     "name": "stdout",
     "output_type": "stream",
     "text": [
      "[[500.  502.5 505.  ... 775.  777.5 780. ]\n",
      " [500.  502.5 505.  ... 775.  777.5 780. ]\n",
      " [500.  502.5 505.  ... 775.  777.5 780. ]\n",
      " ...\n",
      " [500.  502.5 505.  ... 775.  777.5 780. ]\n",
      " [500.  502.5 505.  ... 775.  777.5 780. ]\n",
      " [500.  502.5 505.  ... 775.  777.5 780. ]]\n"
     ]
    }
   ],
   "source": [
    "print(np.matrix(xData))"
   ]
  },
  {
   "cell_type": "code",
   "execution_count": 38,
   "id": "6fdeb700",
   "metadata": {},
   "outputs": [
    {
     "name": "stdout",
     "output_type": "stream",
     "text": [
      "[[ 1.93590290e-02  1.88031894e-02  1.85768086e-02 ...  8.26014636e-04\n",
      "   1.74703164e-03  3.20257468e-03]\n",
      " [ 3.91769888e-02  4.05616183e-02  4.06630190e-02 ...  8.04540725e-04\n",
      "   1.43987250e-03  2.51124610e-03]\n",
      " [ 3.86913087e-02  3.78901696e-02  3.83620973e-02 ...  1.01839484e-03\n",
      "   1.96487209e-03  3.12875338e-03]\n",
      " ...\n",
      " [ 3.78454100e-02  3.68241067e-02  3.88565124e-02 ... -9.83116896e-05\n",
      "   7.39912699e-04  2.36094896e-03]\n",
      " [ 4.33986881e-02  4.36331743e-02  4.41218101e-02 ... -6.36651254e-04\n",
      "   2.27954045e-06  1.96964908e-03]\n",
      " [ 3.43996722e-02  3.48023408e-02  3.60548866e-02 ... -6.69944231e-04\n",
      "  -3.44952199e-06  1.91152276e-03]]\n"
     ]
    }
   ],
   "source": [
    "print(np.matrix(yData))"
   ]
  },
  {
   "cell_type": "code",
   "execution_count": 39,
   "id": "ff9b1fae",
   "metadata": {},
   "outputs": [
    {
     "data": {
      "image/png": "[encoded data removed]",
      "text/plain": [
       "<Figure size 432x288 with 1 Axes>"
      ]
     },
     "metadata": {
      "needs_background": "light"
     },
     "output_type": "display_data"
    },
    {
     "data": {
      "image/png": "[encoded data removed]",
      "text/plain": [
       "<Figure size 432x288 with 1 Axes>"
      ]
     },
     "metadata": {
      "needs_background": "light"
     },
     "output_type": "display_data"
    },
    {
     "data": {
      "image/png": "[encoded data removed]",
      "text/plain": [
       "<Figure size 432x288 with 1 Axes>"
      ]
     },
     "metadata": {
      "needs_background": "light"
     },
     "output_type": "display_data"
    },
    {
     "data": {
      "image/png": "[encoded data removed]",
      "text/plain": [
       "<Figure size 432x288 with 1 Axes>"
      ]
     },
     "metadata": {
      "needs_background": "light"
     },
     "output_type": "display_data"
    },
    {
     "data": {
      "image/png": "[encoded data removed]",
      "text/plain": [
       "<Figure size 432x288 with 1 Axes>"
      ]
     },
     "metadata": {
      "needs_background": "light"
     },
     "output_type": "display_data"
    },
    {
     "data": {
      "image/png": "[encoded data removed]",
      "text/plain": [
       "<Figure size 432x288 with 1 Axes>"
      ]
     },
     "metadata": {
      "needs_background": "light"
     },
     "output_type": "display_data"
    },
    {
     "data": {
      "image/png": "[encoded data removed]",
      "text/plain": [
       "<Figure size 432x288 with 1 Axes>"
      ]
     },
     "metadata": {
      "needs_background": "light"
     },
     "output_type": "display_data"
    },
    {
     "data": {
      "image/png": "[encoded data removed]",
      "text/plain": [
       "<Figure size 432x288 with 1 Axes>"
      ]
     },
     "metadata": {
      "needs_background": "light"
     },
     "output_type": "display_data"
    },
    {
     "data": {
      "image/png": "[encoded data removed]",
      "text/plain": [
       "<Figure size 432x288 with 1 Axes>"
      ]
     },
     "metadata": {
      "needs_background": "light"
     },
     "output_type": "display_data"
    },
    {
     "data": {
      "image/png": "[encoded data removed]",
      "text/plain": [
       "<Figure size 432x288 with 1 Axes>"
      ]
     },
     "metadata": {
      "needs_background": "light"
     },
     "output_type": "display_data"
    }
   ],
   "source": [
    "for x in range(10):\n",
    "    plt.figure()\n",
    "    plt.plot(xData[x,:],yData[x,:],'-rx')\n",
    "    plt.title('Optical characteristics: Scan '+str(x+1))\n",
    "    plt.xlabel('Wavelength (nm)')\n",
    "    plt.ylabel('fraction_hit/miss')\n",
    "    plt.legend(['Corrected Extinction_C5'], loc='best')\n",
    "    plt.show()"
   ]
  }
 ],
 "metadata": {
  "kernelspec": {
   "display_name": "Python 3 (ipykernel)",
   "language": "python",
   "name": "python3"
  },
  "language_info": {
   "codemirror_mode": {
    "name": "ipython",
    "version": 3
   },
   "file_extension": ".py",
   "mimetype": "text/x-python",
   "name": "python",
   "nbconvert_exporter": "python",
   "pygments_lexer": "ipython3",
   "version": "3.9.7"
  }
 },
 "nbformat": 4,
 "nbformat_minor": 5
}
